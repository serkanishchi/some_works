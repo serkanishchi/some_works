{
  "nbformat": 4,
  "nbformat_minor": 0,
  "metadata": {
    "colab": {
      "name": "enc_trace_analysis.ipynb",
      "provenance": [],
      "collapsed_sections": [],
      "authorship_tag": "ABX9TyONYrMsCDDgF/SgF6MZjK0g",
      "include_colab_link": true
    },
    "kernelspec": {
      "name": "python3",
      "display_name": "Python 3"
    },
    "accelerator": "GPU"
  },
  "cells": [
    {
      "cell_type": "markdown",
      "metadata": {
        "id": "view-in-github",
        "colab_type": "text"
      },
      "source": [
        "<a href=\"https://colab.research.google.com/github/serkanishchi/some_works/blob/master/enc_trace_analysis.ipynb\" target=\"_parent\"><img src=\"https://colab.research.google.com/assets/colab-badge.svg\" alt=\"Open In Colab\"/></a>"
      ]
    },
    {
      "cell_type": "markdown",
      "metadata": {
        "id": "gx01tdAJW7ql",
        "colab_type": "text"
      },
      "source": [
        "**CS 8035 Adv. Topics in Data Security and Privacy, Spring 2020 Final Project: Encrypted Traffic Analysis**\n",
        "\n",
        "In the context of project, a neural network model generated to perform encrypted traffic analysis by using the data and example code that has been provided from https://github.com/Aegon007/adv_topic_data_security. Keras framework with TensorFlow backend is used to generate model. 2 additional layers added to default CNN model and some changes made to hyperparameters to see different results. The model has been trained in Google Colab using GPU. As a result the trained model test accuracy incrased to %95.  "
      ]
    },
    {
      "cell_type": "markdown",
      "metadata": {
        "id": "8RkvalNWX0Oc",
        "colab_type": "text"
      },
      "source": [
        "Check if the GPU device is available and import TensorFlow library."
      ]
    },
    {
      "cell_type": "code",
      "metadata": {
        "id": "ZHA4dVph9j53",
        "colab_type": "code",
        "outputId": "2784b574-0e10-493d-897a-2bc7d29ffae0",
        "colab": {
          "base_uri": "https://localhost:8080/",
          "height": 35
        }
      },
      "source": [
        "# Import TensorFlow library\n",
        "%tensorflow_version 2.x\n",
        "import tensorflow as tf\n",
        "# Check GPU Device\n",
        "device_name = tf.test.gpu_device_name()\n",
        "if device_name != '/device:GPU:0':\n",
        "  raise SystemError('GPU device not found')\n",
        "print('Found GPU at: {}'.format(device_name))"
      ],
      "execution_count": 1,
      "outputs": [
        {
          "output_type": "stream",
          "text": [
            "Found GPU at: /device:GPU:0\n"
          ],
          "name": "stdout"
        }
      ]
    },
    {
      "cell_type": "markdown",
      "metadata": {
        "id": "l9fP1z5IYe54",
        "colab_type": "text"
      },
      "source": [
        "Import necessary libraries for data processing, plotting and neural network model training.\n",
        "\n"
      ]
    },
    {
      "cell_type": "code",
      "metadata": {
        "id": "PfwBNN5KW21U",
        "colab_type": "code",
        "outputId": "d7dad11b-5470-4d76-9de1-dbdc80ef9e4e",
        "colab": {
          "base_uri": "https://localhost:8080/",
          "height": 35
        }
      },
      "source": [
        "# Import necessary libraries\n",
        "import os                 # Miscellaneous operating system interfaces\n",
        "import logging            # Flexible event logging library\n",
        "import urllib.request     # Module for opening and reading URLs\n",
        "import zipfile            # Library for handling .zip files\n",
        "\n",
        "import numpy as np        # Scientific computing library\n",
        "import pandas as pd       # Data manipulation and analysis library\n",
        "import matplotlib as plt  # Plotting library\n",
        "\n",
        "# Import keras library modules to generate Neural Network\n",
        "# 1D convolution layer\n",
        "from keras.layers.convolutional import Conv1D\n",
        "from keras.layers import Dense, Dropout, Flatten, MaxPooling1D, BatchNormalization, GlobalAveragePooling1D\n",
        "from keras.models import Sequential\n",
        "from keras.callbacks import ModelCheckpoint, LearningRateScheduler, EarlyStopping, TensorBoard\n",
        "import keras.backend as K\n",
        "from keras.utils import np_utils"
      ],
      "execution_count": 2,
      "outputs": [
        {
          "output_type": "stream",
          "text": [
            "Using TensorFlow backend.\n"
          ],
          "name": "stderr"
        }
      ]
    },
    {
      "cell_type": "markdown",
      "metadata": {
        "id": "R9Tnenp2baPj",
        "colab_type": "text"
      },
      "source": [
        "Download the datasets ([train](https://github.com/Aegon007/adv_topic_data_security/raw/master/network_analysis/data/traffic_trace_train.zip) and [test](https://github.com/Aegon007/adv_topic_data_security/raw/master/network_analysis/data/traffic_trace_test.zip)) from Github repository and extract them in to the working directory."
      ]
    },
    {
      "cell_type": "code",
      "metadata": {
        "id": "rZni3X1X9rVq",
        "colab_type": "code",
        "colab": {}
      },
      "source": [
        "# Download the dataset from Github Repository\n",
        "training_url = 'https://github.com/Aegon007/adv_topic_data_security/raw/master/network_analysis/data/traffic_trace_train.zip'\n",
        "test_url = 'https://github.com/Aegon007/adv_topic_data_security/raw/master/network_analysis/data/traffic_trace_test.zip'\n",
        "urllib.request.urlretrieve(training_url, 'traffic_trace_train.zip')\n",
        "urllib.request.urlretrieve(test_url, 'traffic_trace_test.zip')\n",
        "\n",
        "# Extract the data\n",
        "with zipfile.ZipFile('traffic_trace_train.zip', 'r') as zip_ref:\n",
        "    zip_ref.extractall()\n",
        "\n",
        "with zipfile.ZipFile('traffic_trace_test.zip', 'r') as zip_ref:\n",
        "    zip_ref.extractall()"
      ],
      "execution_count": 0,
      "outputs": []
    },
    {
      "cell_type": "markdown",
      "metadata": {
        "id": "uk9MJXZmdGoZ",
        "colab_type": "text"
      },
      "source": [
        "Read dataset and generate feature vector and label vector. The data has been already preprocessed. It will be used directly as inputs in neural network."
      ]
    },
    {
      "cell_type": "code",
      "metadata": {
        "id": "a4QXx248ex2J",
        "colab_type": "code",
        "outputId": "46d16a89-849d-47c9-af56-8de00bd8a254",
        "colab": {
          "base_uri": "https://localhost:8080/",
          "height": 109
        }
      },
      "source": [
        "# Load Training and Test Data\n",
        "# Read csv file with pandas library and save it as dataframe\n",
        "trainingData = pd.read_csv(\"traffic_trace_train.csv\", sep='\\t')\n",
        "testData = pd.read_csv(\"traffic_trace_test.csv\", sep='\\t')\n",
        "\n",
        "# Print dimensions of datasets\n",
        "print(\"Training data:\" + str(trainingData.shape))\n",
        "print(\"Test data:\" + str(testData.shape))\n",
        "print(\"The training data contains \"\n",
        "      + str(trainingData.shape[0]) \n",
        "      +\" samples, and the test data contains \" \n",
        "      + str(testData.shape[0]) \n",
        "      +\" samples which are not used in the training data.\")\n",
        "print(\"The feature vector contains \" + str(trainingData.shape[1]-1) + \" features.\")"
      ],
      "execution_count": 4,
      "outputs": [
        {
          "output_type": "stream",
          "text": [
            "Training data:(76000, 2002)\n",
            "Test data:(9500, 2002)\n",
            "The training data contains 76000 samples, and the test data contains 9500 samples which are not used in the training data.\n",
            "The feature vector contains 2001 features.\n"
          ],
          "name": "stdout"
        }
      ]
    },
    {
      "cell_type": "code",
      "metadata": {
        "id": "Pk_OS7S__4Wm",
        "colab_type": "code",
        "colab": {}
      },
      "source": [
        "# Convert training dataframe to list\n",
        "trainingData=trainingData.to_numpy()\n",
        "# Create empty lists for feature/label vectors and populate lists\n",
        "X_train, Y_train = [], []\n",
        "for i in range(trainingData.shape[0]):\n",
        "  sample = list(trainingData[i, :])\n",
        "  # Feature vector \n",
        "  one_data = sample[1:-1]\n",
        "  # Label\n",
        "  one_label = sample[-1]\n",
        "  X_train.append(one_data)\n",
        "  Y_train.append(one_label)\n",
        "\n",
        "# Delete training dataframe to optimize memory\n",
        "del trainingData"
      ],
      "execution_count": 0,
      "outputs": []
    },
    {
      "cell_type": "code",
      "metadata": {
        "id": "XCIh3dPvDhio",
        "colab_type": "code",
        "colab": {}
      },
      "source": [
        "# Convert test dataframe to list \n",
        "testData=testData.to_numpy()\n",
        "# Create empty lists for feature/label vectors and populate lists\n",
        "X_test, Y_test = [], []\n",
        "for i in range(testData.shape[0]):\n",
        "  sample = list(testData[i, :])\n",
        "  # Feature vector \n",
        "  one_data = sample[1:-1]\n",
        "  # Label\n",
        "  one_label = sample[-1]\n",
        "  X_test.append(one_data)\n",
        "  Y_test.append(one_label)\n",
        "\n",
        "# Delete test dataframe to optimize memory\n",
        "del testData"
      ],
      "execution_count": 0,
      "outputs": []
    },
    {
      "cell_type": "code",
      "metadata": {
        "id": "yg-tduHMITyc",
        "colab_type": "code",
        "colab": {}
      },
      "source": [
        "# Convert feature vectors to numpy array\n",
        "X_train = np.array(X_train)\n",
        "X_test = np.array(X_test)"
      ],
      "execution_count": 0,
      "outputs": []
    },
    {
      "cell_type": "code",
      "metadata": {
        "id": "D6G1R2xPDyD4",
        "colab_type": "code",
        "outputId": "1c59c3eb-b65b-4616-fa72-cd09fd2e66c0",
        "colab": {
          "base_uri": "https://localhost:8080/",
          "height": 35
        }
      },
      "source": [
        "# Calculate total number of classes\n",
        "NUM_CLASS = len(set(Y_test))\n",
        "print(\"There is \" + str(NUM_CLASS) + \" classes in the dataset.\")"
      ],
      "execution_count": 8,
      "outputs": [
        {
          "output_type": "stream",
          "text": [
            "There is 95 classes in the dataset.\n"
          ],
          "name": "stdout"
        }
      ]
    },
    {
      "cell_type": "code",
      "metadata": {
        "id": "oS2XUiquEQL1",
        "colab_type": "code",
        "colab": {
          "base_uri": "https://localhost:8080/",
          "height": 89
        },
        "outputId": "c89d45b8-9752-44a4-a607-616a5a171b49"
      },
      "source": [
        "# Prepare feature and label vectors for training and test\n",
        "# Reshape feature vector, add \n",
        "print(\"Shape of the training feature vector before reshaping: \" + str(X_train.shape)) \n",
        "X_train = X_train.reshape(X_train.shape[0], X_train.shape[1], 1)\n",
        "print(\"Shape of the training feature vector after reshaping: \" + str(X_train.shape))  \n",
        "\n",
        "print(\"Shape of the test feature vector before reshaping: \" + str(X_test.shape)) \n",
        "X_test = X_test.reshape(X_test.shape[0], X_test.shape[1], 1)\n",
        "print(\"Shape of the test feature vector after reshaping: \" + str(X_test.shape)) \n",
        "\n",
        "# Convert label vector to categorical data for multi class classification\n",
        "# Labels converted from numerical data to categorical data\n",
        "# [3] => [0, 0 ,1 , 0, 0, 0, ... , 0]\n",
        "# [5] => [0, 0 ,0 , 0, 1, 0, ... , 0]\n",
        "Y_train = np_utils.to_categorical(Y_train, NUM_CLASS)\n",
        "Y_test = np_utils.to_categorical(Y_test, NUM_CLASS)"
      ],
      "execution_count": 9,
      "outputs": [
        {
          "output_type": "stream",
          "text": [
            "Shape of the training feature vector before reshaping: (76000, 2000)\n",
            "Shape of the training feature vector after reshaping: (76000, 2000, 1)\n",
            "Shape of the test feature vector before reshaping: (9500, 2000)\n",
            "Shape of the test feature vector after reshaping: (9500, 2000, 1)\n"
          ],
          "name": "stdout"
        }
      ]
    },
    {
      "cell_type": "markdown",
      "metadata": {
        "id": "2UhR80nJKWze",
        "colab_type": "text"
      },
      "source": [
        "2 additional layers added to default CNN model, optimizer changed as RMSprop and some changes made to hyperparameters to see different results. "
      ]
    },
    {
      "cell_type": "code",
      "metadata": {
        "id": "hvStOSMJJ_4D",
        "colab_type": "code",
        "colab": {}
      },
      "source": [
        "params ={\n",
        "  'optimizer': 'RMSprop',\n",
        "  'learning_rate': 0.01,\n",
        "  'activation1': 'softsign',\n",
        "  'activation2': 'softsign',\n",
        "  'activation3': 'selu',\n",
        "  'activation4': 'selu',\n",
        "  'activation5': 'selu',\n",
        "  'activation6': 'selu',\n",
        "  'drop_rate1': 0.2,\n",
        "  'drop_rate2': 0.2,\n",
        "  'drop_rate3': 0.5,\n",
        "  'drop_rate4': 0.5,\n",
        "  'drop_rate5': 0.5,\n",
        "  'drop_rate6': 0.5,\n",
        "  'decay': 0.1,\n",
        "  'batch_size': 128,\n",
        "  'data_dim': 2000,\n",
        "  'epochs': 100,\n",
        "  'conv1': 64,\n",
        "  'conv2': 128,\n",
        "  'conv3': 256,\n",
        "  'conv4': 512,\n",
        "  'conv5': 256,\n",
        "  'conv6': 128,\n",
        "  'pool1': 4,\n",
        "  'pool2': 2,\n",
        "  'pool3': 2,\n",
        "  'pool4': 2,\n",
        "  'pool5': 2,\n",
        "  'pool6': 2,\n",
        "  'kernel_size1': 16,\n",
        "  'kernel_size2': 16,\n",
        "  'kernel_size3': 8,\n",
        "  'kernel_size4': 8,\n",
        "  'kernel_size5': 4,\n",
        "  'kernel_size6': 4,\n",
        "  'dense1': 256,\n",
        "  # 'dense2': 128,\n",
        "  'dense1_act': 'softsign',\n",
        "  #'dense2_act': 'softsign'\n",
        "}"
      ],
      "execution_count": 0,
      "outputs": []
    },
    {
      "cell_type": "code",
      "metadata": {
        "id": "CaFv9YgdJFqJ",
        "colab_type": "code",
        "outputId": "deba0371-76f9-431e-aaad-f733b5be20be",
        "colab": {
          "base_uri": "https://localhost:8080/",
          "height": 35
        }
      },
      "source": [
        "layers = [Conv1D(params['conv1'], kernel_size=params['kernel_size1'], activation=params['activation1'], input_shape=(params['data_dim'], 1), use_bias=False, kernel_initializer='glorot_normal'),\n",
        "          BatchNormalization(),\n",
        "          MaxPooling1D(params['pool1']),\n",
        "          Dropout(rate=params['drop_rate1']),\n",
        "\n",
        "          Conv1D(params['conv2'], kernel_size=params['kernel_size2'], activation=params['activation2'], kernel_initializer='glorot_normal'),\n",
        "          BatchNormalization(),\n",
        "          MaxPooling1D(params['pool2']),\n",
        "          Dropout(rate=params['drop_rate2']),\n",
        "\n",
        "          Conv1D(params['conv3'], kernel_size=params['kernel_size3'], activation=params['activation3'], kernel_initializer='glorot_normal'),\n",
        "          BatchNormalization(),\n",
        "          MaxPooling1D(params['pool3']),\n",
        "          Dropout(rate=params['drop_rate3']),\n",
        "\n",
        "          Conv1D(params['conv4'], kernel_size=params['kernel_size4'], activation=params['activation4'], kernel_initializer='glorot_normal'),\n",
        "          BatchNormalization(),\n",
        "          MaxPooling1D(params['pool4']),\n",
        "          Dropout(rate=params['drop_rate4']),\n",
        "\n",
        "          Conv1D(params['conv5'], kernel_size=params['kernel_size5'], activation=params['activation5'], kernel_initializer='glorot_normal'),\n",
        "          BatchNormalization(),\n",
        "          MaxPooling1D(params['pool5']),\n",
        "          Dropout(rate=params['drop_rate5']),\n",
        "\n",
        "          Conv1D(params['conv6'], kernel_size=params['kernel_size6'], activation=params['activation6'], kernel_initializer='glorot_normal'),\n",
        "          BatchNormalization(),\n",
        "          MaxPooling1D(params['pool6']),\n",
        "          GlobalAveragePooling1D(),\n",
        "\n",
        "          Dense(params['dense1'], activation=params['dense1_act'], kernel_initializer='glorot_normal'),\n",
        "          BatchNormalization(),\n",
        "          Dense(NUM_CLASS, activation='softmax')]\n",
        "\n",
        "model = Sequential(layers)\n",
        "\n",
        "model.compile(loss='categorical_crossentropy',\n",
        "  optimizer=params['optimizer'],\n",
        "  metrics=['accuracy'])"
      ],
      "execution_count": 61,
      "outputs": [
        {
          "output_type": "stream",
          "text": [
            "Compiling...\n"
          ],
          "name": "stdout"
        }
      ]
    },
    {
      "cell_type": "code",
      "metadata": {
        "id": "PPqNtV7h1tSl",
        "colab_type": "code",
        "colab": {
          "base_uri": "https://localhost:8080/",
          "height": 1000
        },
        "outputId": "99c41b84-fe11-4837-cb97-4f4275ea1ad7"
      },
      "source": [
        "model.summary()"
      ],
      "execution_count": 62,
      "outputs": [
        {
          "output_type": "stream",
          "text": [
            "Model: \"sequential_6\"\n",
            "_________________________________________________________________\n",
            "Layer (type)                 Output Shape              Param #   \n",
            "=================================================================\n",
            "conv1d_31 (Conv1D)           (None, 1985, 64)          1024      \n",
            "_________________________________________________________________\n",
            "batch_normalization_37 (Batc (None, 1985, 64)          256       \n",
            "_________________________________________________________________\n",
            "max_pooling1d_31 (MaxPooling (None, 496, 64)           0         \n",
            "_________________________________________________________________\n",
            "dropout_25 (Dropout)         (None, 496, 64)           0         \n",
            "_________________________________________________________________\n",
            "conv1d_32 (Conv1D)           (None, 481, 128)          131200    \n",
            "_________________________________________________________________\n",
            "batch_normalization_38 (Batc (None, 481, 128)          512       \n",
            "_________________________________________________________________\n",
            "max_pooling1d_32 (MaxPooling (None, 240, 128)          0         \n",
            "_________________________________________________________________\n",
            "dropout_26 (Dropout)         (None, 240, 128)          0         \n",
            "_________________________________________________________________\n",
            "conv1d_33 (Conv1D)           (None, 233, 256)          262400    \n",
            "_________________________________________________________________\n",
            "batch_normalization_39 (Batc (None, 233, 256)          1024      \n",
            "_________________________________________________________________\n",
            "max_pooling1d_33 (MaxPooling (None, 116, 256)          0         \n",
            "_________________________________________________________________\n",
            "dropout_27 (Dropout)         (None, 116, 256)          0         \n",
            "_________________________________________________________________\n",
            "conv1d_34 (Conv1D)           (None, 109, 512)          1049088   \n",
            "_________________________________________________________________\n",
            "batch_normalization_40 (Batc (None, 109, 512)          2048      \n",
            "_________________________________________________________________\n",
            "max_pooling1d_34 (MaxPooling (None, 54, 512)           0         \n",
            "_________________________________________________________________\n",
            "dropout_28 (Dropout)         (None, 54, 512)           0         \n",
            "_________________________________________________________________\n",
            "conv1d_35 (Conv1D)           (None, 51, 256)           524544    \n",
            "_________________________________________________________________\n",
            "batch_normalization_41 (Batc (None, 51, 256)           1024      \n",
            "_________________________________________________________________\n",
            "max_pooling1d_35 (MaxPooling (None, 25, 256)           0         \n",
            "_________________________________________________________________\n",
            "dropout_29 (Dropout)         (None, 25, 256)           0         \n",
            "_________________________________________________________________\n",
            "conv1d_36 (Conv1D)           (None, 22, 128)           131200    \n",
            "_________________________________________________________________\n",
            "batch_normalization_42 (Batc (None, 22, 128)           512       \n",
            "_________________________________________________________________\n",
            "max_pooling1d_36 (MaxPooling (None, 11, 128)           0         \n",
            "_________________________________________________________________\n",
            "global_average_pooling1d_7 ( (None, 128)               0         \n",
            "_________________________________________________________________\n",
            "dense_12 (Dense)             (None, 256)               33024     \n",
            "_________________________________________________________________\n",
            "batch_normalization_43 (Batc (None, 256)               1024      \n",
            "_________________________________________________________________\n",
            "dense_13 (Dense)             (None, 95)                24415     \n",
            "=================================================================\n",
            "Total params: 2,163,295\n",
            "Trainable params: 2,160,095\n",
            "Non-trainable params: 3,200\n",
            "_________________________________________________________________\n"
          ],
          "name": "stdout"
        }
      ]
    },
    {
      "cell_type": "code",
      "metadata": {
        "id": "bCmupo2hN7eh",
        "colab_type": "code",
        "outputId": "091d5e68-a5ba-4a98-ff40-40d1ea3d7fd8",
        "colab": {
          "base_uri": "https://localhost:8080/",
          "height": 35
        }
      },
      "source": [
        "# Create a model directory in workspace\n",
        "modelDir = 'modelDir'\n",
        "if not os.path.isdir(modelDir):\n",
        "    os.makedirs(modelDir)\n",
        "\n",
        "# Create a picture directory in model directory\n",
        "picDir = os.path.join(modelDir, 'pic')\n",
        "if not os.path.isdir(picDir):\n",
        "  os.makedirs(picDir)\n",
        "\n",
        "# Plot model save to the picture directory\n",
        "picPath = os.path.join(picDir, 'cnn_model.png')\n",
        "from keras.utils import plot_model\n",
        "plot_model(model, to_file=picPath, show_shapes='True')\n",
        "\n",
        "# Create model path\n",
        "modelPath = os.path.join(modelDir, 'cnn_weights_best.hdf5')\n",
        "\n",
        "# Create a model check pointer to keep monitor and keep best validation accuracy \"val_accuracy\"\n",
        "checkpointer = ModelCheckpoint(filepath=modelPath, monitor='val_accuracy', verbose=1, save_best_only=True, mode='max')\n",
        "CallBacks = [checkpointer]\n",
        "\n",
        "# Append callback an early stop condition \n",
        "CallBacks.append(EarlyStopping(monitor='val_accuracy', mode='max', patience=15))"
      ],
      "execution_count": 64,
      "outputs": [
        {
          "output_type": "stream",
          "text": [
            "Fitting model...\n"
          ],
          "name": "stdout"
        }
      ]
    },
    {
      "cell_type": "code",
      "metadata": {
        "id": "g7bY69ynNEvH",
        "colab_type": "code",
        "outputId": "09c1b9f9-bad9-4a9e-b710-c461825d12f7",
        "colab": {
          "base_uri": "https://localhost:8080/",
          "height": 1000
        }
      },
      "source": [
        "# Fit the model with validation split 0.2. %20 percent of the training data will be used for validation.\n",
        "hist = model.fit(X_train, Y_train,\n",
        "  batch_size=params['batch_size'],\n",
        "  epochs=params['epochs'],\n",
        "  validation_split = 0.2,\n",
        "  verbose=2,\n",
        "  callbacks=CallBacks)"
      ],
      "execution_count": 65,
      "outputs": [
        {
          "output_type": "stream",
          "text": [
            "Train on 60800 samples, validate on 15200 samples\n",
            "Epoch 1/500\n",
            "60800/60800 [==============================] - 29s 484us/step - loss: 1.8860 - accuracy: 0.5055 - val_loss: 3.1422 - val_accuracy: 0.2725\n",
            "Epoch 2/500\n",
            "  384/60800 [..............................] - ETA: 26s - loss: 1.1255 - accuracy: 0.6901"
          ],
          "name": "stdout"
        },
        {
          "output_type": "stream",
          "text": [
            "/usr/local/lib/python3.6/dist-packages/keras/callbacks/callbacks.py:707: RuntimeWarning: Can save best model only with val_acc available, skipping.\n",
            "  'skipping.' % (self.monitor), RuntimeWarning)\n"
          ],
          "name": "stderr"
        },
        {
          "output_type": "stream",
          "text": [
            "60800/60800 [==============================] - 28s 466us/step - loss: 0.8403 - accuracy: 0.7756 - val_loss: 0.6271 - val_accuracy: 0.8384\n",
            "Epoch 3/500\n",
            "60800/60800 [==============================] - 28s 468us/step - loss: 0.6161 - accuracy: 0.8347 - val_loss: 0.5570 - val_accuracy: 0.8487\n",
            "Epoch 4/500\n",
            "60800/60800 [==============================] - 28s 466us/step - loss: 0.5051 - accuracy: 0.8655 - val_loss: 0.4124 - val_accuracy: 0.8953\n",
            "Epoch 5/500\n",
            "60800/60800 [==============================] - 28s 465us/step - loss: 0.4311 - accuracy: 0.8851 - val_loss: 0.4047 - val_accuracy: 0.8945\n",
            "Epoch 6/500\n",
            "60800/60800 [==============================] - 28s 465us/step - loss: 0.3845 - accuracy: 0.8963 - val_loss: 0.3180 - val_accuracy: 0.9191\n",
            "Epoch 7/500\n",
            "60800/60800 [==============================] - 28s 466us/step - loss: 0.3497 - accuracy: 0.9050 - val_loss: 0.2988 - val_accuracy: 0.9241\n",
            "Epoch 8/500\n",
            "60800/60800 [==============================] - 28s 466us/step - loss: 0.3188 - accuracy: 0.9125 - val_loss: 0.2885 - val_accuracy: 0.9244\n",
            "Epoch 9/500\n",
            "60800/60800 [==============================] - 28s 465us/step - loss: 0.2949 - accuracy: 0.9192 - val_loss: 0.2805 - val_accuracy: 0.9267\n",
            "Epoch 10/500\n",
            "60800/60800 [==============================] - 28s 465us/step - loss: 0.2785 - accuracy: 0.9240 - val_loss: 0.2936 - val_accuracy: 0.9243\n",
            "Epoch 11/500\n",
            "60800/60800 [==============================] - 28s 465us/step - loss: 0.2614 - accuracy: 0.9279 - val_loss: 0.2509 - val_accuracy: 0.9362\n",
            "Epoch 12/500\n",
            "60800/60800 [==============================] - 28s 466us/step - loss: 0.2446 - accuracy: 0.9323 - val_loss: 0.2452 - val_accuracy: 0.9373\n",
            "Epoch 13/500\n",
            "60800/60800 [==============================] - 28s 465us/step - loss: 0.2345 - accuracy: 0.9339 - val_loss: 0.2434 - val_accuracy: 0.9370\n",
            "Epoch 14/500\n",
            "60800/60800 [==============================] - 28s 467us/step - loss: 0.2240 - accuracy: 0.9370 - val_loss: 0.2292 - val_accuracy: 0.9424\n",
            "Epoch 15/500\n",
            "60800/60800 [==============================] - 28s 465us/step - loss: 0.2138 - accuracy: 0.9402 - val_loss: 0.2269 - val_accuracy: 0.9430\n",
            "Epoch 16/500\n",
            "60800/60800 [==============================] - 28s 465us/step - loss: 0.2046 - accuracy: 0.9421 - val_loss: 0.2168 - val_accuracy: 0.9452\n",
            "Epoch 17/500\n",
            "60800/60800 [==============================] - 28s 465us/step - loss: 0.1985 - accuracy: 0.9442 - val_loss: 0.2196 - val_accuracy: 0.9418\n",
            "Epoch 18/500\n",
            "60800/60800 [==============================] - 28s 466us/step - loss: 0.1863 - accuracy: 0.9475 - val_loss: 0.2176 - val_accuracy: 0.9450\n",
            "Epoch 19/500\n",
            "60800/60800 [==============================] - 28s 467us/step - loss: 0.1809 - accuracy: 0.9492 - val_loss: 0.2029 - val_accuracy: 0.9485\n",
            "Epoch 20/500\n",
            "60800/60800 [==============================] - 29s 475us/step - loss: 0.1778 - accuracy: 0.9498 - val_loss: 0.1951 - val_accuracy: 0.9515\n",
            "Epoch 21/500\n",
            "60800/60800 [==============================] - 29s 476us/step - loss: 0.1693 - accuracy: 0.9523 - val_loss: 0.2142 - val_accuracy: 0.9455\n",
            "Epoch 22/500\n",
            "60800/60800 [==============================] - 29s 472us/step - loss: 0.1684 - accuracy: 0.9519 - val_loss: 0.2193 - val_accuracy: 0.9478\n",
            "Epoch 23/500\n",
            "60800/60800 [==============================] - 29s 475us/step - loss: 0.1563 - accuracy: 0.9553 - val_loss: 0.1985 - val_accuracy: 0.9510\n",
            "Epoch 24/500\n",
            "60800/60800 [==============================] - 29s 473us/step - loss: 0.1580 - accuracy: 0.9549 - val_loss: 0.2069 - val_accuracy: 0.9497\n",
            "Epoch 25/500\n",
            "60800/60800 [==============================] - 29s 474us/step - loss: 0.1526 - accuracy: 0.9562 - val_loss: 0.1987 - val_accuracy: 0.9491\n",
            "Epoch 26/500\n",
            "60800/60800 [==============================] - 29s 473us/step - loss: 0.1475 - accuracy: 0.9576 - val_loss: 0.2050 - val_accuracy: 0.9500\n"
          ],
          "name": "stdout"
        }
      ]
    },
    {
      "cell_type": "code",
      "metadata": {
        "id": "AU0jyCMMZ5wQ",
        "colab_type": "code",
        "outputId": "12a5315c-83ad-4ba4-a94e-21318d9248e6",
        "colab": {
          "base_uri": "https://localhost:8080/",
          "height": 35
        }
      },
      "source": [
        "# list all data in history\n",
        "print(hist.history.keys())"
      ],
      "execution_count": 40,
      "outputs": [
        {
          "output_type": "stream",
          "text": [
            "dict_keys(['val_loss', 'val_accuracy', 'loss', 'accuracy'])\n"
          ],
          "name": "stdout"
        }
      ]
    },
    {
      "cell_type": "code",
      "metadata": {
        "id": "p2Ur4UITQH64",
        "colab_type": "code",
        "outputId": "67330c83-05af-44b7-f79a-fa351f484952",
        "colab": {
          "base_uri": "https://localhost:8080/",
          "height": 591
        }
      },
      "source": [
        "# Plot Model Accuracy and Model Loss\n",
        "# Summarize history for accuracy\n",
        "plt.plot(hist.history['accuracy'])\n",
        "plt.plot(hist.history['val_accuracy'])\n",
        "plt.title('model accuracy')\n",
        "plt.ylabel('accuracy')\n",
        "plt.xlabel('epoch')\n",
        "plt.legend(['train', 'validation'], loc='lower right')\n",
        "plt.show()\n",
        "plt.savefig(os.path.join(picDir, 'hist_of_acc.png')\n",
        "# Summarize history for loss\n",
        "plt.plot(hist.history['loss'])\n",
        "plt.plot(hist.history['val_loss'])\n",
        "plt.title('model loss')\n",
        "plt.ylabel('loss')\n",
        "plt.xlabel('epoch')\n",
        "plt.legend(['train', 'validation'], loc='upper right')\n",
        "plt.show()\n",
        "plt.savefig(os.path.join(picDir, 'hist_of_lost.png')"
      ],
      "execution_count": 53,
      "outputs": [
        {
          "output_type": "display_data",
          "data": {
            "image/png": "[encoded data removed]",
            "text/plain": [
              "<Figure size 432x288 with 1 Axes>"
            ]
          },
          "metadata": {
            "tags": [],
            "needs_background": "light"
          }
        },
        {
          "output_type": "display_data",
          "data": {
            "image/png": "[encoded data removed]",
            "text/plain": [
              "<Figure size 432x288 with 1 Axes>"
            ]
          },
          "metadata": {
            "tags": [],
            "needs_background": "light"
          }
        },
        {
          "output_type": "display_data",
          "data": {
            "text/plain": [
              "<Figure size 432x288 with 0 Axes>"
            ]
          },
          "metadata": {
            "tags": []
          }
        }
      ]
    },
    {
      "cell_type": "code",
      "metadata": {
        "id": "agtlhxmrdG2C",
        "colab_type": "code",
        "colab": {}
      },
      "source": [
        "# Save the model\n",
        "model.save(modelPath)"
      ],
      "execution_count": 0,
      "outputs": []
    },
    {
      "cell_type": "code",
      "metadata": {
        "id": "RgHin3p_eZR1",
        "colab_type": "code",
        "outputId": "2e250f46-2097-4f46-ee69-1d03ab5b2881",
        "colab": {
          "base_uri": "https://localhost:8080/",
          "height": 71
        }
      },
      "source": [
        "# Evaluate model with test data\n",
        "score, acc = model.evaluate(X_test, Y_test, batch_size=100)\n",
        "\n",
        "print('Test score:', score)\n",
        "print('Test accuracy:', acc)"
      ],
      "execution_count": 66,
      "outputs": [
        {
          "output_type": "stream",
          "text": [
            "9500/9500 [==============================] - 1s 149us/step\n",
            "Test score: 0.20135177789703257\n",
            "Test accuracy: 0.948736846446991\n"
          ],
          "name": "stdout"
        }
      ]
    },
    {
      "cell_type": "markdown",
      "metadata": {
        "id": "DjWL5HgvN-fO",
        "colab_type": "text"
      },
      "source": [
        "The encrypted traffic data analyzed with a trained neural network and identified as %94 correctly. "
      ]
    }
  ]
}